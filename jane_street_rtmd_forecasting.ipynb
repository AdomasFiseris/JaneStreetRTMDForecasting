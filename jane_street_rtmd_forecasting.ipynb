{
 "cells": [
  {
   "cell_type": "code",
   "execution_count": 1,
   "metadata": {},
   "outputs": [],
   "source": [
    "# Packages\n",
    "\n",
    "import os\n",
    "import polars as pl\n",
    "import numpy as np # linear algebra\n",
    "import pandas as pd # data processing, CSV file I/O (e.g. pd.read_csv)\n",
    "import glob\n",
    "import matplotlib.pyplot as plt"
   ]
  },
  {
   "cell_type": "code",
   "execution_count": 2,
   "metadata": {},
   "outputs": [],
   "source": [
    "class LoadData:\n",
    "    \n",
    "    def __init__(self, file_paths):\n",
    "        self.file_paths = file_paths\n",
    "        \n",
    "    def load_and_concat(self):\n",
    "        # Use `scan_parquet` for lazy loading\n",
    "        partitioned_data = [pl.scan_parquet(file_path) for file_path in self.file_paths]\n",
    "        df = pl.concat(partitioned_data, rechunk=False)  # Keep lazy mode with rechunk=False\n",
    "        \n",
    "        return df\n",
    "    \n",
    "# Specify file paths\n",
    "file_paths = sorted(glob.glob('Data/train.parquet/*/*.parquet'))\n",
    "\n",
    "# Initialize the loader and load data as a lazy frame\n",
    "loader = LoadData(file_paths)\n",
    "df_train = loader.load_and_concat()  # df_train is now a lazy frame"
   ]
  },
  {
   "cell_type": "code",
   "execution_count": 5,
   "metadata": {},
   "outputs": [
    {
     "name": "stderr",
     "output_type": "stream",
     "text": [
      "C:\\Users\\afise\\AppData\\Local\\Temp\\ipykernel_11608\\3551500004.py:1: PerformanceWarning: Resolving the schema of a LazyFrame is a potentially expensive operation. Use `LazyFrame.collect_schema()` to get the schema without this warning.\n",
      "  responder_columns = [col for col, dtype in df_train.schema.items() if col.startswith(\"responder_\")]\n"
     ]
    }
   ],
   "source": [
    "responder_columns = [col for col, dtype in df_train.schema.items() if col.startswith(\"responder_\")]\n",
    "\n",
    "aggregations = [pl.col(responder).mean().alias(f\"daily_{responder}_mean\") for responder in responder_columns]\n",
    "\n",
    "df_daily_means = df_train.group_by(\"date_id\").agg(aggregations)\n",
    "\n",
    "df_train = df_train.join(df_daily_means, on=\"date_id\")\n"
   ]
  },
  {
   "cell_type": "code",
   "execution_count": 6,
   "metadata": {},
   "outputs": [
    {
     "data": {
      "text/html": [
       "<div><style>\n",
       ".dataframe > thead > tr,\n",
       ".dataframe > tbody > tr {\n",
       "  text-align: right;\n",
       "  white-space: pre-wrap;\n",
       "}\n",
       "</style>\n",
       "<small>shape: (47_127_338, 101)</small><table border=\"1\" class=\"dataframe\"><thead><tr><th>date_id</th><th>time_id</th><th>symbol_id</th><th>weight</th><th>feature_00</th><th>feature_01</th><th>feature_02</th><th>feature_03</th><th>feature_04</th><th>feature_05</th><th>feature_06</th><th>feature_07</th><th>feature_08</th><th>feature_09</th><th>feature_10</th><th>feature_11</th><th>feature_12</th><th>feature_13</th><th>feature_14</th><th>feature_15</th><th>feature_16</th><th>feature_17</th><th>feature_18</th><th>feature_19</th><th>feature_20</th><th>feature_21</th><th>feature_22</th><th>feature_23</th><th>feature_24</th><th>feature_25</th><th>feature_26</th><th>feature_27</th><th>feature_28</th><th>feature_29</th><th>feature_30</th><th>feature_31</th><th>feature_32</th><th>&hellip;</th><th>feature_60</th><th>feature_61</th><th>feature_62</th><th>feature_63</th><th>feature_64</th><th>feature_65</th><th>feature_66</th><th>feature_67</th><th>feature_68</th><th>feature_69</th><th>feature_70</th><th>feature_71</th><th>feature_72</th><th>feature_73</th><th>feature_74</th><th>feature_75</th><th>feature_76</th><th>feature_77</th><th>feature_78</th><th>responder_0</th><th>responder_1</th><th>responder_2</th><th>responder_3</th><th>responder_4</th><th>responder_5</th><th>responder_6</th><th>responder_7</th><th>responder_8</th><th>daily_responder_0_mean</th><th>daily_responder_1_mean</th><th>daily_responder_2_mean</th><th>daily_responder_3_mean</th><th>daily_responder_4_mean</th><th>daily_responder_5_mean</th><th>daily_responder_6_mean</th><th>daily_responder_7_mean</th><th>daily_responder_8_mean</th></tr><tr><td>i16</td><td>i16</td><td>i8</td><td>f32</td><td>f32</td><td>f32</td><td>f32</td><td>f32</td><td>f32</td><td>f32</td><td>f32</td><td>f32</td><td>f32</td><td>i8</td><td>i8</td><td>i16</td><td>f32</td><td>f32</td><td>f32</td><td>f32</td><td>f32</td><td>f32</td><td>f32</td><td>f32</td><td>f32</td><td>f32</td><td>f32</td><td>f32</td><td>f32</td><td>f32</td><td>f32</td><td>f32</td><td>f32</td><td>f32</td><td>f32</td><td>f32</td><td>f32</td><td>&hellip;</td><td>f32</td><td>f32</td><td>f32</td><td>f32</td><td>f32</td><td>f32</td><td>f32</td><td>f32</td><td>f32</td><td>f32</td><td>f32</td><td>f32</td><td>f32</td><td>f32</td><td>f32</td><td>f32</td><td>f32</td><td>f32</td><td>f32</td><td>f32</td><td>f32</td><td>f32</td><td>f32</td><td>f32</td><td>f32</td><td>f32</td><td>f32</td><td>f32</td><td>f32</td><td>f32</td><td>f32</td><td>f32</td><td>f32</td><td>f32</td><td>f32</td><td>f32</td><td>f32</td></tr></thead><tbody><tr><td>0</td><td>0</td><td>1</td><td>3.889038</td><td>null</td><td>null</td><td>null</td><td>null</td><td>null</td><td>0.851033</td><td>0.242971</td><td>0.2634</td><td>-0.891687</td><td>11</td><td>7</td><td>76</td><td>-0.883028</td><td>0.003067</td><td>-0.744703</td><td>null</td><td>-0.169586</td><td>null</td><td>-1.335938</td><td>-1.707803</td><td>0.91013</td><td>null</td><td>1.636431</td><td>1.522133</td><td>-1.551398</td><td>-0.229627</td><td>null</td><td>null</td><td>1.378301</td><td>-0.283712</td><td>0.123196</td><td>null</td><td>null</td><td>&hellip;</td><td>-0.345213</td><td>-1.36224</td><td>null</td><td>null</td><td>null</td><td>null</td><td>null</td><td>-1.251104</td><td>-0.110252</td><td>-0.491157</td><td>-1.02269</td><td>0.152241</td><td>-0.659864</td><td>null</td><td>null</td><td>-0.261412</td><td>-0.211486</td><td>-0.335556</td><td>-0.281498</td><td>0.738489</td><td>-0.069556</td><td>1.380875</td><td>2.005353</td><td>0.186018</td><td>1.218368</td><td>0.775981</td><td>0.346999</td><td>0.095504</td><td>0.067315</td><td>0.253774</td><td>0.015864</td><td>0.094224</td><td>0.120296</td><td>0.047118</td><td>-0.011707</td><td>-0.042917</td><td>-0.00225</td></tr><tr><td>0</td><td>0</td><td>7</td><td>1.370613</td><td>null</td><td>null</td><td>null</td><td>null</td><td>null</td><td>0.676961</td><td>0.151984</td><td>0.192465</td><td>-0.521729</td><td>11</td><td>7</td><td>76</td><td>-0.865307</td><td>-0.225629</td><td>-0.582163</td><td>null</td><td>0.317467</td><td>null</td><td>-1.250016</td><td>-1.682929</td><td>1.412757</td><td>null</td><td>0.520378</td><td>0.744132</td><td>-0.788658</td><td>0.641776</td><td>null</td><td>null</td><td>0.2272</td><td>0.580907</td><td>1.128879</td><td>null</td><td>null</td><td>&hellip;</td><td>0.467994</td><td>-1.36224</td><td>null</td><td>null</td><td>null</td><td>null</td><td>null</td><td>-1.065759</td><td>0.013322</td><td>-0.592855</td><td>-1.052685</td><td>-0.393726</td><td>-0.741603</td><td>null</td><td>null</td><td>-0.281207</td><td>-0.182894</td><td>-0.245565</td><td>-0.302441</td><td>2.965889</td><td>1.190077</td><td>-0.523998</td><td>3.849921</td><td>2.626981</td><td>5.0</td><td>0.703665</td><td>0.216683</td><td>0.778639</td><td>0.067315</td><td>0.253774</td><td>0.015864</td><td>0.094224</td><td>0.120296</td><td>0.047118</td><td>-0.011707</td><td>-0.042917</td><td>-0.00225</td></tr><tr><td>0</td><td>0</td><td>9</td><td>2.285698</td><td>null</td><td>null</td><td>null</td><td>null</td><td>null</td><td>1.056285</td><td>0.187227</td><td>0.249901</td><td>-0.77305</td><td>11</td><td>7</td><td>76</td><td>-0.675719</td><td>-0.199404</td><td>-0.586798</td><td>null</td><td>-0.814909</td><td>null</td><td>-1.296782</td><td>-2.040234</td><td>0.639589</td><td>null</td><td>1.597359</td><td>0.657514</td><td>-1.350148</td><td>0.364215</td><td>null</td><td>null</td><td>-0.017751</td><td>-0.317361</td><td>-0.122379</td><td>null</td><td>null</td><td>&hellip;</td><td>-0.063458</td><td>-1.36224</td><td>null</td><td>null</td><td>null</td><td>null</td><td>null</td><td>-0.882604</td><td>-0.072482</td><td>-0.617934</td><td>-0.86323</td><td>-0.241892</td><td>-0.709919</td><td>null</td><td>null</td><td>0.377131</td><td>0.300724</td><td>-0.106842</td><td>-0.096792</td><td>-0.864488</td><td>-0.280303</td><td>-0.326697</td><td>0.375781</td><td>1.271291</td><td>0.099793</td><td>2.109352</td><td>0.670881</td><td>0.772828</td><td>0.067315</td><td>0.253774</td><td>0.015864</td><td>0.094224</td><td>0.120296</td><td>0.047118</td><td>-0.011707</td><td>-0.042917</td><td>-0.00225</td></tr><tr><td>0</td><td>0</td><td>10</td><td>0.690606</td><td>null</td><td>null</td><td>null</td><td>null</td><td>null</td><td>1.139366</td><td>0.273328</td><td>0.306549</td><td>-1.262223</td><td>42</td><td>5</td><td>150</td><td>-0.694008</td><td>3.004091</td><td>0.114809</td><td>null</td><td>-0.251882</td><td>null</td><td>-1.902009</td><td>-0.979447</td><td>0.241165</td><td>null</td><td>-0.392359</td><td>-0.224699</td><td>-2.129397</td><td>-0.855287</td><td>null</td><td>null</td><td>0.404142</td><td>-0.578156</td><td>0.105702</td><td>null</td><td>null</td><td>&hellip;</td><td>1.834661</td><td>-1.36224</td><td>null</td><td>null</td><td>null</td><td>null</td><td>null</td><td>-0.697595</td><td>1.074309</td><td>-0.206929</td><td>-0.530602</td><td>4.765215</td><td>0.571554</td><td>null</td><td>null</td><td>-0.226891</td><td>-0.251412</td><td>-0.215522</td><td>-0.296244</td><td>0.408499</td><td>0.223992</td><td>2.294888</td><td>1.097444</td><td>1.225872</td><td>1.225376</td><td>1.114137</td><td>0.775199</td><td>-1.379516</td><td>0.067315</td><td>0.253774</td><td>0.015864</td><td>0.094224</td><td>0.120296</td><td>0.047118</td><td>-0.011707</td><td>-0.042917</td><td>-0.00225</td></tr><tr><td>0</td><td>0</td><td>14</td><td>0.44057</td><td>null</td><td>null</td><td>null</td><td>null</td><td>null</td><td>0.9552</td><td>0.262404</td><td>0.344457</td><td>-0.613813</td><td>44</td><td>3</td><td>16</td><td>-0.947351</td><td>-0.030018</td><td>-0.502379</td><td>null</td><td>0.646086</td><td>null</td><td>-1.844685</td><td>-1.58656</td><td>-0.182024</td><td>null</td><td>-0.969949</td><td>-0.673813</td><td>-1.282132</td><td>-1.399894</td><td>null</td><td>null</td><td>0.043815</td><td>-0.320225</td><td>-0.031713</td><td>null</td><td>null</td><td>&hellip;</td><td>0.411827</td><td>-1.36224</td><td>null</td><td>null</td><td>null</td><td>null</td><td>null</td><td>-0.948601</td><td>-0.136814</td><td>-0.447704</td><td>-1.141761</td><td>0.099631</td><td>-0.661928</td><td>null</td><td>null</td><td>3.678076</td><td>2.793581</td><td>2.61825</td><td>3.418133</td><td>-0.373387</td><td>-0.502764</td><td>-0.348021</td><td>-3.928148</td><td>-1.591366</td><td>-5.0</td><td>-3.57282</td><td>-1.089123</td><td>-5.0</td><td>0.067315</td><td>0.253774</td><td>0.015864</td><td>0.094224</td><td>0.120296</td><td>0.047118</td><td>-0.011707</td><td>-0.042917</td><td>-0.00225</td></tr><tr><td>&hellip;</td><td>&hellip;</td><td>&hellip;</td><td>&hellip;</td><td>&hellip;</td><td>&hellip;</td><td>&hellip;</td><td>&hellip;</td><td>&hellip;</td><td>&hellip;</td><td>&hellip;</td><td>&hellip;</td><td>&hellip;</td><td>&hellip;</td><td>&hellip;</td><td>&hellip;</td><td>&hellip;</td><td>&hellip;</td><td>&hellip;</td><td>&hellip;</td><td>&hellip;</td><td>&hellip;</td><td>&hellip;</td><td>&hellip;</td><td>&hellip;</td><td>&hellip;</td><td>&hellip;</td><td>&hellip;</td><td>&hellip;</td><td>&hellip;</td><td>&hellip;</td><td>&hellip;</td><td>&hellip;</td><td>&hellip;</td><td>&hellip;</td><td>&hellip;</td><td>&hellip;</td><td>&hellip;</td><td>&hellip;</td><td>&hellip;</td><td>&hellip;</td><td>&hellip;</td><td>&hellip;</td><td>&hellip;</td><td>&hellip;</td><td>&hellip;</td><td>&hellip;</td><td>&hellip;</td><td>&hellip;</td><td>&hellip;</td><td>&hellip;</td><td>&hellip;</td><td>&hellip;</td><td>&hellip;</td><td>&hellip;</td><td>&hellip;</td><td>&hellip;</td><td>&hellip;</td><td>&hellip;</td><td>&hellip;</td><td>&hellip;</td><td>&hellip;</td><td>&hellip;</td><td>&hellip;</td><td>&hellip;</td><td>&hellip;</td><td>&hellip;</td><td>&hellip;</td><td>&hellip;</td><td>&hellip;</td><td>&hellip;</td><td>&hellip;</td><td>&hellip;</td><td>&hellip;</td><td>&hellip;</td></tr><tr><td>1698</td><td>967</td><td>34</td><td>3.242493</td><td>2.52516</td><td>-0.721981</td><td>2.544025</td><td>2.477615</td><td>0.417557</td><td>0.785812</td><td>1.117796</td><td>2.199436</td><td>0.415427</td><td>42</td><td>5</td><td>150</td><td>0.804403</td><td>1.157257</td><td>1.031543</td><td>-0.671189</td><td>-0.3286</td><td>-0.486132</td><td>1.730176</td><td>-0.006173</td><td>-0.001144</td><td>-0.213062</td><td>0.932618</td><td>1.367338</td><td>-0.238197</td><td>-0.692615</td><td>-0.121163</td><td>1.090798</td><td>1.444294</td><td>-0.675626</td><td>-1.013264</td><td>-0.242888</td><td>3.427639</td><td>&hellip;</td><td>2.412886</td><td>-1.101531</td><td>-0.384833</td><td>-0.275818</td><td>-0.40804</td><td>2.427115</td><td>-0.108427</td><td>0.739734</td><td>0.830205</td><td>0.366287</td><td>1.33325</td><td>1.075499</td><td>1.798264</td><td>-0.183443</td><td>-0.190222</td><td>0.234211</td><td>0.347142</td><td>-0.044463</td><td>0.016936</td><td>0.243475</td><td>0.166927</td><td>0.38494</td><td>-0.174297</td><td>-0.066046</td><td>-0.038767</td><td>-0.132337</td><td>-0.022426</td><td>-0.252461</td><td>0.026908</td><td>0.123067</td><td>0.007998</td><td>0.007819</td><td>0.027855</td><td>0.003636</td><td>0.001324</td><td>-0.002287</td><td>0.006007</td></tr><tr><td>1698</td><td>967</td><td>35</td><td>1.079139</td><td>1.857906</td><td>-0.790646</td><td>2.745439</td><td>2.339877</td><td>0.845065</td><td>0.65137</td><td>1.180301</td><td>1.966379</td><td>0.321543</td><td>25</td><td>7</td><td>195</td><td>-0.075294</td><td>-0.152726</td><td>-0.20417</td><td>-0.421137</td><td>0.21708</td><td>-0.258775</td><td>1.874978</td><td>0.19988</td><td>-0.199219</td><td>-0.125619</td><td>-1.004547</td><td>-0.051933</td><td>0.450905</td><td>0.009246</td><td>0.164127</td><td>-0.939974</td><td>-1.143421</td><td>-0.320071</td><td>-0.379835</td><td>-0.142429</td><td>3.862469</td><td>&hellip;</td><td>0.288816</td><td>-1.101531</td><td>-0.343868</td><td>-0.253991</td><td>-0.278832</td><td>2.050639</td><td>-0.059506</td><td>-0.029396</td><td>-0.101381</td><td>-0.187759</td><td>-0.180839</td><td>-0.0861</td><td>-0.153405</td><td>-0.196077</td><td>-0.175292</td><td>1.04578</td><td>0.739733</td><td>0.03372</td><td>0.05086</td><td>0.850152</td><td>0.909382</td><td>1.015314</td><td>0.235962</td><td>0.122539</td><td>0.099559</td><td>-0.249584</td><td>-0.123571</td><td>-0.46063</td><td>0.026908</td><td>0.123067</td><td>0.007998</td><td>0.007819</td><td>0.027855</td><td>0.003636</td><td>0.001324</td><td>-0.002287</td><td>0.006007</td></tr><tr><td>1698</td><td>967</td><td>36</td><td>1.033172</td><td>2.515527</td><td>-0.672298</td><td>2.28925</td><td>2.521592</td><td>0.255077</td><td>0.919892</td><td>1.172018</td><td>2.180496</td><td>0.24846</td><td>49</td><td>7</td><td>297</td><td>1.026715</td><td>-0.096892</td><td>0.224309</td><td>-0.528109</td><td>-0.704952</td><td>-0.704818</td><td>2.312482</td><td>0.32804</td><td>-0.108193</td><td>null</td><td>-0.945684</td><td>-0.244173</td><td>0.205989</td><td>-0.357343</td><td>null</td><td>null</td><td>-1.11075</td><td>-0.580242</td><td>-0.400568</td><td>null</td><td>2.397877</td><td>&hellip;</td><td>1.830421</td><td>-1.101531</td><td>-0.341991</td><td>-0.249132</td><td>-0.34365</td><td>2.251358</td><td>0.601888</td><td>1.035051</td><td>-0.283241</td><td>0.107244</td><td>0.86016</td><td>0.024223</td><td>0.374852</td><td>-0.220933</td><td>-0.161584</td><td>0.032771</td><td>0.036888</td><td>0.168908</td><td>0.152333</td><td>0.395684</td><td>-0.292574</td><td>-3.215846</td><td>-0.535129</td><td>-0.178484</td><td>-1.80815</td><td>-0.065355</td><td>-0.000367</td><td>-0.12517</td><td>0.026908</td><td>0.123067</td><td>0.007998</td><td>0.007819</td><td>0.027855</td><td>0.003636</td><td>0.001324</td><td>-0.002287</td><td>0.006007</td></tr><tr><td>1698</td><td>967</td><td>37</td><td>1.243116</td><td>2.663298</td><td>-0.889112</td><td>2.313155</td><td>3.101428</td><td>0.324454</td><td>0.618944</td><td>1.185663</td><td>1.599724</td><td>0.319719</td><td>34</td><td>4</td><td>214</td><td>0.759314</td><td>0.284057</td><td>0.41716</td><td>-0.611075</td><td>-0.513717</td><td>-0.891423</td><td>1.84994</td><td>0.406756</td><td>-1.608196</td><td>-0.252663</td><td>-0.271574</td><td>-0.051405</td><td>0.098146</td><td>-0.653961</td><td>0.173676</td><td>-0.016497</td><td>-0.404509</td><td>-0.577262</td><td>-0.731429</td><td>-0.21646</td><td>3.018564</td><td>&hellip;</td><td>1.270645</td><td>-1.101531</td><td>-0.358106</td><td>-0.141883</td><td>-0.255192</td><td>2.489247</td><td>0.537652</td><td>0.982107</td><td>-0.158009</td><td>0.137389</td><td>0.478357</td><td>0.782692</td><td>0.581421</td><td>-0.106056</td><td>-0.111017</td><td>0.163867</td><td>0.169331</td><td>-0.037563</td><td>-0.029483</td><td>1.925987</td><td>0.479394</td><td>3.621867</td><td>-0.107114</td><td>-0.063599</td><td>1.204755</td><td>-0.148711</td><td>-0.026583</td><td>-0.256395</td><td>0.026908</td><td>0.123067</td><td>0.007998</td><td>0.007819</td><td>0.027855</td><td>0.003636</td><td>0.001324</td><td>-0.002287</td><td>0.006007</td></tr><tr><td>1698</td><td>967</td><td>38</td><td>3.193685</td><td>2.728506</td><td>-0.745238</td><td>2.788789</td><td>2.343393</td><td>0.454731</td><td>0.862839</td><td>0.964795</td><td>2.089673</td><td>0.344931</td><td>50</td><td>1</td><td>522</td><td>0.406531</td><td>0.618247</td><td>1.01327</td><td>-0.952069</td><td>-0.679168</td><td>-0.597603</td><td>0.375125</td><td>1.97537</td><td>-0.440974</td><td>-0.072018</td><td>1.741353</td><td>1.380735</td><td>-0.110494</td><td>-0.874806</td><td>0.553424</td><td>0.532243</td><td>0.263214</td><td>-0.757856</td><td>-0.869204</td><td>-0.062955</td><td>3.619233</td><td>&hellip;</td><td>0.653011</td><td>-1.101531</td><td>-0.622853</td><td>-0.363631</td><td>-0.395652</td><td>-0.016812</td><td>2.016734</td><td>0.241486</td><td>0.253229</td><td>0.228745</td><td>0.462717</td><td>0.799635</td><td>0.706102</td><td>-0.376377</td><td>-0.286764</td><td>-0.359046</td><td>-0.246135</td><td>-0.288941</td><td>-0.247774</td><td>1.228778</td><td>0.512562</td><td>-0.050865</td><td>0.160883</td><td>0.080756</td><td>-0.078237</td><td>-0.138548</td><td>-0.038771</td><td>-0.21194</td><td>0.026908</td><td>0.123067</td><td>0.007998</td><td>0.007819</td><td>0.027855</td><td>0.003636</td><td>0.001324</td><td>-0.002287</td><td>0.006007</td></tr></tbody></table></div>"
      ],
      "text/plain": [
       "shape: (47_127_338, 101)\n",
       "┌─────────┬─────────┬───────────┬──────────┬───┬────────────┬────────────┬────────────┬────────────┐\n",
       "│ date_id ┆ time_id ┆ symbol_id ┆ weight   ┆ … ┆ daily_resp ┆ daily_resp ┆ daily_resp ┆ daily_resp │\n",
       "│ ---     ┆ ---     ┆ ---       ┆ ---      ┆   ┆ onder_5_me ┆ onder_6_me ┆ onder_7_me ┆ onder_8_me │\n",
       "│ i16     ┆ i16     ┆ i8        ┆ f32      ┆   ┆ an         ┆ an         ┆ an         ┆ an         │\n",
       "│         ┆         ┆           ┆          ┆   ┆ ---        ┆ ---        ┆ ---        ┆ ---        │\n",
       "│         ┆         ┆           ┆          ┆   ┆ f32        ┆ f32        ┆ f32        ┆ f32        │\n",
       "╞═════════╪═════════╪═══════════╪══════════╪═══╪════════════╪════════════╪════════════╪════════════╡\n",
       "│ 0       ┆ 0       ┆ 1         ┆ 3.889038 ┆ … ┆ 0.047118   ┆ -0.011707  ┆ -0.042917  ┆ -0.00225   │\n",
       "│ 0       ┆ 0       ┆ 7         ┆ 1.370613 ┆ … ┆ 0.047118   ┆ -0.011707  ┆ -0.042917  ┆ -0.00225   │\n",
       "│ 0       ┆ 0       ┆ 9         ┆ 2.285698 ┆ … ┆ 0.047118   ┆ -0.011707  ┆ -0.042917  ┆ -0.00225   │\n",
       "│ 0       ┆ 0       ┆ 10        ┆ 0.690606 ┆ … ┆ 0.047118   ┆ -0.011707  ┆ -0.042917  ┆ -0.00225   │\n",
       "│ 0       ┆ 0       ┆ 14        ┆ 0.44057  ┆ … ┆ 0.047118   ┆ -0.011707  ┆ -0.042917  ┆ -0.00225   │\n",
       "│ …       ┆ …       ┆ …         ┆ …        ┆ … ┆ …          ┆ …          ┆ …          ┆ …          │\n",
       "│ 1698    ┆ 967     ┆ 34        ┆ 3.242493 ┆ … ┆ 0.003636   ┆ 0.001324   ┆ -0.002287  ┆ 0.006007   │\n",
       "│ 1698    ┆ 967     ┆ 35        ┆ 1.079139 ┆ … ┆ 0.003636   ┆ 0.001324   ┆ -0.002287  ┆ 0.006007   │\n",
       "│ 1698    ┆ 967     ┆ 36        ┆ 1.033172 ┆ … ┆ 0.003636   ┆ 0.001324   ┆ -0.002287  ┆ 0.006007   │\n",
       "│ 1698    ┆ 967     ┆ 37        ┆ 1.243116 ┆ … ┆ 0.003636   ┆ 0.001324   ┆ -0.002287  ┆ 0.006007   │\n",
       "│ 1698    ┆ 967     ┆ 38        ┆ 3.193685 ┆ … ┆ 0.003636   ┆ 0.001324   ┆ -0.002287  ┆ 0.006007   │\n",
       "└─────────┴─────────┴───────────┴──────────┴───┴────────────┴────────────┴────────────┴────────────┘"
      ]
     },
     "execution_count": 6,
     "metadata": {},
     "output_type": "execute_result"
    }
   ],
   "source": [
    "df_train.collect()"
   ]
  },
  {
   "cell_type": "code",
   "execution_count": 7,
   "metadata": {},
   "outputs": [
    {
     "name": "stderr",
     "output_type": "stream",
     "text": [
      "C:\\Users\\afise\\AppData\\Local\\Temp\\ipykernel_11608\\3888810499.py:1: PerformanceWarning: Resolving the schema of a LazyFrame is a potentially expensive operation. Use `LazyFrame.collect_schema()` to get the schema without this warning.\n",
      "  df_train.schema\n"
     ]
    },
    {
     "data": {
      "text/plain": [
       "Schema([('date_id', Int16),\n",
       "        ('time_id', Int16),\n",
       "        ('symbol_id', Int8),\n",
       "        ('weight', Float32),\n",
       "        ('feature_00', Float32),\n",
       "        ('feature_01', Float32),\n",
       "        ('feature_02', Float32),\n",
       "        ('feature_03', Float32),\n",
       "        ('feature_04', Float32),\n",
       "        ('feature_05', Float32),\n",
       "        ('feature_06', Float32),\n",
       "        ('feature_07', Float32),\n",
       "        ('feature_08', Float32),\n",
       "        ('feature_09', Int8),\n",
       "        ('feature_10', Int8),\n",
       "        ('feature_11', Int16),\n",
       "        ('feature_12', Float32),\n",
       "        ('feature_13', Float32),\n",
       "        ('feature_14', Float32),\n",
       "        ('feature_15', Float32),\n",
       "        ('feature_16', Float32),\n",
       "        ('feature_17', Float32),\n",
       "        ('feature_18', Float32),\n",
       "        ('feature_19', Float32),\n",
       "        ('feature_20', Float32),\n",
       "        ('feature_21', Float32),\n",
       "        ('feature_22', Float32),\n",
       "        ('feature_23', Float32),\n",
       "        ('feature_24', Float32),\n",
       "        ('feature_25', Float32),\n",
       "        ('feature_26', Float32),\n",
       "        ('feature_27', Float32),\n",
       "        ('feature_28', Float32),\n",
       "        ('feature_29', Float32),\n",
       "        ('feature_30', Float32),\n",
       "        ('feature_31', Float32),\n",
       "        ('feature_32', Float32),\n",
       "        ('feature_33', Float32),\n",
       "        ('feature_34', Float32),\n",
       "        ('feature_35', Float32),\n",
       "        ('feature_36', Float32),\n",
       "        ('feature_37', Float32),\n",
       "        ('feature_38', Float32),\n",
       "        ('feature_39', Float32),\n",
       "        ('feature_40', Float32),\n",
       "        ('feature_41', Float32),\n",
       "        ('feature_42', Float32),\n",
       "        ('feature_43', Float32),\n",
       "        ('feature_44', Float32),\n",
       "        ('feature_45', Float32),\n",
       "        ('feature_46', Float32),\n",
       "        ('feature_47', Float32),\n",
       "        ('feature_48', Float32),\n",
       "        ('feature_49', Float32),\n",
       "        ('feature_50', Float32),\n",
       "        ('feature_51', Float32),\n",
       "        ('feature_52', Float32),\n",
       "        ('feature_53', Float32),\n",
       "        ('feature_54', Float32),\n",
       "        ('feature_55', Float32),\n",
       "        ('feature_56', Float32),\n",
       "        ('feature_57', Float32),\n",
       "        ('feature_58', Float32),\n",
       "        ('feature_59', Float32),\n",
       "        ('feature_60', Float32),\n",
       "        ('feature_61', Float32),\n",
       "        ('feature_62', Float32),\n",
       "        ('feature_63', Float32),\n",
       "        ('feature_64', Float32),\n",
       "        ('feature_65', Float32),\n",
       "        ('feature_66', Float32),\n",
       "        ('feature_67', Float32),\n",
       "        ('feature_68', Float32),\n",
       "        ('feature_69', Float32),\n",
       "        ('feature_70', Float32),\n",
       "        ('feature_71', Float32),\n",
       "        ('feature_72', Float32),\n",
       "        ('feature_73', Float32),\n",
       "        ('feature_74', Float32),\n",
       "        ('feature_75', Float32),\n",
       "        ('feature_76', Float32),\n",
       "        ('feature_77', Float32),\n",
       "        ('feature_78', Float32),\n",
       "        ('responder_0', Float32),\n",
       "        ('responder_1', Float32),\n",
       "        ('responder_2', Float32),\n",
       "        ('responder_3', Float32),\n",
       "        ('responder_4', Float32),\n",
       "        ('responder_5', Float32),\n",
       "        ('responder_6', Float32),\n",
       "        ('responder_7', Float32),\n",
       "        ('responder_8', Float32),\n",
       "        ('daily_responder_0_mean', Float32),\n",
       "        ('daily_responder_1_mean', Float32),\n",
       "        ('daily_responder_2_mean', Float32),\n",
       "        ('daily_responder_3_mean', Float32),\n",
       "        ('daily_responder_4_mean', Float32),\n",
       "        ('daily_responder_5_mean', Float32),\n",
       "        ('daily_responder_6_mean', Float32),\n",
       "        ('daily_responder_7_mean', Float32),\n",
       "        ('daily_responder_8_mean', Float32)])"
      ]
     },
     "execution_count": 7,
     "metadata": {},
     "output_type": "execute_result"
    }
   ],
   "source": [
    "df_train.schema"
   ]
  },
  {
   "cell_type": "code",
   "execution_count": null,
   "metadata": {},
   "outputs": [],
   "source": []
  }
 ],
 "metadata": {
  "kernelspec": {
   "display_name": "Python 3",
   "language": "python",
   "name": "python3"
  },
  "language_info": {
   "codemirror_mode": {
    "name": "ipython",
    "version": 3
   },
   "file_extension": ".py",
   "mimetype": "text/x-python",
   "name": "python",
   "nbconvert_exporter": "python",
   "pygments_lexer": "ipython3",
   "version": "3.11.9"
  }
 },
 "nbformat": 4,
 "nbformat_minor": 2
}
