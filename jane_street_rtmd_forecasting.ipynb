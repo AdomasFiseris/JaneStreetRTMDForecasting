{
 "cells": [
  {
   "cell_type": "code",
   "execution_count": 33,
   "metadata": {},
   "outputs": [],
   "source": [
    "# Packages\n",
    "\n",
    "import os\n",
    "import gc\n",
    "import polars as pl\n",
    "import numpy as np \n",
    "import pandas as pd \n",
    "import glob\n",
    "import pickle\n",
    "import matplotlib.pyplot as plt\n",
    "import xgboost as xgb\n",
    "import joblib\n",
    "from tqdm.auto import tqdm\n",
    "from sklearn.model_selection import TimeSeriesSplit\n",
    "from xgboost import XGBRegressor\n",
    "from sklearn.metrics import mean_squared_error, mean_absolute_error, r2_score\n",
    "from sklearn.preprocessing import StandardScaler"
   ]
  },
  {
   "cell_type": "code",
   "execution_count": 2,
   "metadata": {},
   "outputs": [],
   "source": [
    "# Loading and concatenating the whole dataset\n",
    "\n",
    "class LoadData:\n",
    "    \n",
    "    def __init__(self, file_paths):\n",
    "        self.file_paths = file_paths\n",
    "        \n",
    "    def load_and_concat(self):\n",
    "        # Use `scan_parquet` for lazy loading\n",
    "        partitioned_data = [pl.scan_parquet(file_path) for file_path in self.file_paths]\n",
    "        df = pl.concat(partitioned_data, rechunk=False)  # Keep lazy mode with rechunk=False\n",
    "        \n",
    "        return df\n",
    "    \n",
    "# Specify file paths\n",
    "file_paths = sorted(glob.glob('Data/train.parquet/*/*.parquet'))\n",
    "\n",
    "# Initialize the loader and load data as a lazy frame\n",
    "loader = LoadData(file_paths)\n",
    "df_full = loader.load_and_concat()  # df_train is now a lazy frame"
   ]
  },
  {
   "cell_type": "code",
   "execution_count": 3,
   "metadata": {},
   "outputs": [
    {
     "name": "stderr",
     "output_type": "stream",
     "text": [
      "C:\\Users\\afise\\AppData\\Local\\Temp\\ipykernel_4740\\873041080.py:3: PerformanceWarning: Resolving the schema of a LazyFrame is a potentially expensive operation. Use `LazyFrame.collect_schema()` to get the schema without this warning.\n",
      "  responder_columns = [col for col, dtype in df_full.schema.items() if col.startswith(\"responder_\")]\n"
     ]
    },
    {
     "data": {
      "text/html": [
       "<div><style>\n",
       ".dataframe > thead > tr,\n",
       ".dataframe > tbody > tr {\n",
       "  text-align: right;\n",
       "  white-space: pre-wrap;\n",
       "}\n",
       "</style>\n",
       "<small>shape: (9, 2)</small><table border=\"1\" class=\"dataframe\"><thead><tr><th>statistic</th><th>value</th></tr><tr><td>str</td><td>f64</td></tr></thead><tbody><tr><td>&quot;count&quot;</td><td>4.7127338e7</td></tr><tr><td>&quot;null_count&quot;</td><td>0.0</td></tr><tr><td>&quot;mean&quot;</td><td>1005.479389</td></tr><tr><td>&quot;std&quot;</td><td>445.181943</td></tr><tr><td>&quot;min&quot;</td><td>0.0</td></tr><tr><td>&quot;25%&quot;</td><td>679.0</td></tr><tr><td>&quot;50%&quot;</td><td>1060.0</td></tr><tr><td>&quot;75%&quot;</td><td>1376.0</td></tr><tr><td>&quot;max&quot;</td><td>1698.0</td></tr></tbody></table></div>"
      ],
      "text/plain": [
       "shape: (9, 2)\n",
       "┌────────────┬─────────────┐\n",
       "│ statistic  ┆ value       │\n",
       "│ ---        ┆ ---         │\n",
       "│ str        ┆ f64         │\n",
       "╞════════════╪═════════════╡\n",
       "│ count      ┆ 4.7127338e7 │\n",
       "│ null_count ┆ 0.0         │\n",
       "│ mean       ┆ 1005.479389 │\n",
       "│ std        ┆ 445.181943  │\n",
       "│ min        ┆ 0.0         │\n",
       "│ 25%        ┆ 679.0       │\n",
       "│ 50%        ┆ 1060.0      │\n",
       "│ 75%        ┆ 1376.0      │\n",
       "│ max        ┆ 1698.0      │\n",
       "└────────────┴─────────────┘"
      ]
     },
     "execution_count": 3,
     "metadata": {},
     "output_type": "execute_result"
    }
   ],
   "source": [
    "# Feature engineering the daily mean value for each responder\n",
    "\n",
    "responder_columns = [col for col, dtype in df_full.schema.items() if col.startswith(\"responder_\")]\n",
    "aggregations = [pl.col(responder).mean().alias(f\"daily_{responder}_mean\") for responder in responder_columns]\n",
    "df_daily_means = df_full.group_by(\"date_id\").agg(aggregations)\n",
    "df_full = df_full.join(df_daily_means, on=\"date_id\")\n",
    "df_full_collected = df_full.collect()\n",
    "df_full_collected['date_id'].describe()"
   ]
  },
  {
   "cell_type": "code",
   "execution_count": 4,
   "metadata": {},
   "outputs": [
    {
     "name": "stdout",
     "output_type": "stream",
     "text": [
      "Columns with missing values:\n",
      "        Column  Null Count\n",
      "4   feature_00     3182052\n",
      "5   feature_01     3182052\n",
      "6   feature_02     3182052\n",
      "7   feature_03     3182052\n",
      "8   feature_04     3182052\n",
      "12  feature_08      300247\n",
      "19  feature_15     1209299\n",
      "20  feature_16         261\n",
      "21  feature_17      201838\n",
      "22  feature_18         226\n",
      "23  feature_19         226\n",
      "25  feature_21     8435985\n",
      "30  feature_26     8435985\n",
      "31  feature_27     8435985\n",
      "35  feature_31     8435985\n",
      "36  feature_32      478457\n",
      "37  feature_33      478457\n",
      "41  feature_37         849\n",
      "43  feature_39     4300649\n",
      "44  feature_40       67856\n",
      "45  feature_41     1093012\n",
      "46  feature_42     4300649\n",
      "47  feature_43       67856\n",
      "48  feature_44     1093012\n",
      "49  feature_45      317163\n",
      "50  feature_46      317163\n",
      "51  feature_47          87\n",
      "54  feature_50     4254098\n",
      "55  feature_51       13805\n",
      "56  feature_52     1044898\n",
      "57  feature_53     4254098\n",
      "58  feature_54       13805\n",
      "59  feature_55     1044898\n",
      "60  feature_56         226\n",
      "61  feature_57         226\n",
      "62  feature_58      478452\n",
      "66  feature_62      292827\n",
      "67  feature_63      227566\n",
      "68  feature_64      237663\n",
      "69  feature_65      317163\n",
      "70  feature_66      317163\n",
      "77  feature_73      483759\n",
      "78  feature_74      483759\n",
      "79  feature_75       58430\n",
      "80  feature_76       58430\n",
      "81  feature_77       20043\n",
      "82  feature_78       20043\n"
     ]
    }
   ],
   "source": [
    "# Get the count of missing values for each column\n",
    "missing_values = df_full_collected.select([pl.col(column).null_count().alias(column) for column in df_full_collected.columns])\n",
    "\n",
    "# Transpose the missing values DataFrame to list columns with non-zero missing values\n",
    "missing_values_df = missing_values.transpose(include_header=True).to_pandas()\n",
    "missing_values_df.columns = ['Column', 'Null Count']\n",
    "\n",
    "# Filter to show only columns with missing values\n",
    "missing_values_filtered = missing_values_df[missing_values_df['Null Count'] > 0]\n",
    "\n",
    "print(\"Columns with missing values:\")\n",
    "print(missing_values_filtered)"
   ]
  },
  {
   "cell_type": "code",
   "execution_count": 5,
   "metadata": {},
   "outputs": [],
   "source": [
    "# Set window size for daily smoothing (e.g., 400–800 timepoints)\n",
    "window_size = 800\n",
    "\n",
    "# Apply rolling mean for columns with missing values\n",
    "df_full_imputed = df_full_collected.select([\n",
    "    pl.col(column).fill_null(strategy=\"mean\") if column not in missing_values_filtered else \n",
    "    pl.col(column).rolling_mean(window_size).fill_null(strategy=\"backward\")\n",
    "    for column in df_full_collected.columns\n",
    "])"
   ]
  },
  {
   "cell_type": "code",
   "execution_count": 6,
   "metadata": {},
   "outputs": [
    {
     "data": {
      "text/plain": [
       "0"
      ]
     },
     "execution_count": 6,
     "metadata": {},
     "output_type": "execute_result"
    }
   ],
   "source": [
    "# Splitting the whole dataset into train and validation at 75th percentile of the date_id value\n",
    "\n",
    "train_df_collected = df_full_imputed.filter(pl.col('date_id') < (np.percentile(df_full_imputed['date_id'].to_numpy(), 75)))\n",
    "val_df_collected = df_full_imputed.filter(pl.col('date_id') >= (np.percentile(df_full_imputed['date_id'].to_numpy(), 75)))\n",
    "\n",
    "len_train = len(train_df_collected)\n",
    "len_valid = len(val_df_collected)\n",
    "\n",
    "train_df = train_df_collected.lazy()\n",
    "val_df = val_df_collected.lazy()\n",
    "\n",
    "del train_df_collected\n",
    "del val_df_collected\n",
    "del df_full_collected\n",
    "gc.collect()"
   ]
  },
  {
   "cell_type": "code",
   "execution_count": 9,
   "metadata": {},
   "outputs": [
    {
     "name": "stdout",
     "output_type": "stream",
     "text": [
      "Starting incremental training...\n"
     ]
    },
    {
     "data": {
      "application/vnd.jupyter.widget-view+json": {
       "model_id": "4149b2abb76b4608b459d80584f6cf57",
       "version_major": 2,
       "version_minor": 0
      },
      "text/plain": [
       "Training Progress:   0%|          | 0/36 [00:00<?, ?it/s]"
      ]
     },
     "metadata": {},
     "output_type": "display_data"
    },
    {
     "name": "stdout",
     "output_type": "stream",
     "text": [
      "Total number of trees after this chunk: 1270\n",
      "Sample Predictions after this chunk: [ 0.20462534 -0.36916992  0.01501894 -0.22044249 -0.06805652]\n",
      "Total number of trees after this chunk: 2540\n",
      "Sample Predictions after this chunk: [-0.18113618 -0.5023955   0.15984912 -0.92642426  0.25941736]\n",
      "Total number of trees after this chunk: 3810\n",
      "Sample Predictions after this chunk: [ 0.6349307  -0.43176982  0.79620177 -0.7704328   0.24980852]\n",
      "Total number of trees after this chunk: 5078\n",
      "Sample Predictions after this chunk: [ 0.50310713 -1.2656448  -1.1523645   0.11093835 -0.2631311 ]\n",
      "Total number of trees after this chunk: 6342\n",
      "Sample Predictions after this chunk: [-0.6910918  -0.30661574  0.6328231   1.0926235  -0.08707051]\n",
      "Total number of trees after this chunk: 7608\n",
      "Sample Predictions after this chunk: [0.7951825  1.910867   1.2730012  1.7528841  0.40086818]\n",
      "Total number of trees after this chunk: 8878\n",
      "Sample Predictions after this chunk: [-0.27392232  0.09945485 -0.40647572  0.13719326 -0.2609938 ]\n",
      "Total number of trees after this chunk: 10118\n",
      "Sample Predictions after this chunk: [-0.1724045  -1.8760089  -0.44075593 -0.50514024  0.09656545]\n",
      "Total number of trees after this chunk: 11384\n",
      "Sample Predictions after this chunk: [ 1.7106937  -0.7401194  -0.59625024  0.6233609  -0.21527095]\n",
      "Total number of trees after this chunk: 12646\n",
      "Sample Predictions after this chunk: [ 0.2452346  -0.29254326  0.46664888  0.20994556  0.43663135]\n",
      "Total number of trees after this chunk: 13878\n",
      "Sample Predictions after this chunk: [-0.30717063  0.05306402  0.02371046 -0.40991172  0.2511331 ]\n",
      "Total number of trees after this chunk: 15124\n",
      "Sample Predictions after this chunk: [-2.2472994   0.17343104  0.06389342  0.6889966  -0.21143307]\n",
      "Total number of trees after this chunk: 16366\n",
      "Sample Predictions after this chunk: [ 0.10450827  0.15619141  0.26180372 -0.08953898 -0.30615318]\n",
      "Total number of trees after this chunk: 17580\n",
      "Sample Predictions after this chunk: [-1.302524    0.01894755 -1.2624949   0.03642076 -0.282255  ]\n",
      "Total number of trees after this chunk: 18816\n",
      "Sample Predictions after this chunk: [ 0.00596457 -0.9040677   0.15918481  0.481962   -1.139182  ]\n",
      "Total number of trees after this chunk: 20086\n",
      "Sample Predictions after this chunk: [-0.13168913 -0.07492144  0.662286    0.8599217  -0.45799264]\n",
      "Total number of trees after this chunk: 21302\n",
      "Sample Predictions after this chunk: [ 0.1785737   0.56086206  0.32486668 -0.08183598  0.04294965]\n",
      "Total number of trees after this chunk: 22544\n",
      "Sample Predictions after this chunk: [-3.739503   -0.15179273  2.157191   -3.2693505   0.40938878]\n",
      "Total number of trees after this chunk: 23780\n",
      "Sample Predictions after this chunk: [-0.24748972  0.01366928 -0.24676467 -0.5145985   0.09639331]\n",
      "Total number of trees after this chunk: 25030\n",
      "Sample Predictions after this chunk: [ 0.40791953  0.3499166  -0.77522135  3.9736288   1.6055119 ]\n",
      "Total number of trees after this chunk: 26270\n",
      "Sample Predictions after this chunk: [-0.5697787  -0.3390467  -0.80208015  0.342913    0.32020432]\n",
      "Total number of trees after this chunk: 27508\n",
      "Sample Predictions after this chunk: [-0.06176119 -0.35058504  0.3441199  -0.04171088  1.9693776 ]\n",
      "Total number of trees after this chunk: 28768\n",
      "Sample Predictions after this chunk: [-0.11906172  0.56946975  0.05439389  0.08963362 -0.70516545]\n",
      "Total number of trees after this chunk: 29920\n",
      "Sample Predictions after this chunk: [-0.7321574   0.3046466  -0.8866564   0.06575722 -0.18596412]\n",
      "Total number of trees after this chunk: 31184\n",
      "Sample Predictions after this chunk: [ 0.07935519  0.50686073 -1.2844858  -0.43015832 -0.19540039]\n",
      "Total number of trees after this chunk: 32442\n",
      "Sample Predictions after this chunk: [-0.23516102 -0.01551956  0.27299285  0.32823703  0.01541345]\n",
      "Total number of trees after this chunk: 33674\n",
      "Sample Predictions after this chunk: [ 0.33499599  0.89308953 -0.6449724  -1.7025628   0.31873512]\n",
      "Total number of trees after this chunk: 34926\n",
      "Sample Predictions after this chunk: [0.11356004 2.6039093  0.41690472 0.8371809  1.0395346 ]\n",
      "Total number of trees after this chunk: 36114\n",
      "Sample Predictions after this chunk: [ 0.06911639 -0.98809683  1.4307255  -0.79523873  0.19193998]\n",
      "Total number of trees after this chunk: 37380\n",
      "Sample Predictions after this chunk: [-0.9084795  0.626282  -1.1873735  2.968924   2.75873  ]\n",
      "Total number of trees after this chunk: 38650\n",
      "Sample Predictions after this chunk: [-0.57846683  0.504318   -0.01715885  0.96841615 -0.05259396]\n",
      "Total number of trees after this chunk: 39910\n",
      "Sample Predictions after this chunk: [ 2.251911   -0.13053378  0.1794196   0.21867418  0.17419715]\n",
      "Total number of trees after this chunk: 41160\n",
      "Sample Predictions after this chunk: [ 2.0524771  -0.4882722  -0.34694928 -0.13981752 -0.32846966]\n",
      "Total number of trees after this chunk: 42400\n",
      "Sample Predictions after this chunk: [ 0.4556662   0.16764374  0.10039554 -0.43928674 -0.01905204]\n",
      "Total number of trees after this chunk: 43646\n",
      "Sample Predictions after this chunk: [-0.20489697 -0.5462345   0.91911125  0.04600254  0.85999995]\n",
      "Total number of trees after this chunk: 44894\n",
      "Sample Predictions after this chunk: [ 0.7720743  -0.50542736 -0.20115498  0.18532422  1.7432841 ]\n",
      "Training complete.\n",
      "Model saved using joblib.\n"
     ]
    }
   ],
   "source": [
    "# Initialize the model with adjusted hyperparameters\n",
    "xgb_model = xgb.XGBRegressor(\n",
    "    objective='reg:squarederror',\n",
    "    n_estimators=10,         # Increased from 5 to 10\n",
    "    max_depth=6,\n",
    "    learning_rate=0.1,       # Increased from 0.01 to 0.1\n",
    "    reg_alpha=0.1,           # L1 regularization\n",
    "    reg_lambda=1.0,          # L2 regularization\n",
    "    random_state=42,\n",
    "    verbosity=1\n",
    ")\n",
    "\n",
    "# Define chunk size\n",
    "chunk_size = 1000000  # Increased from 50,000 to 1,000,000\n",
    "\n",
    "# Placeholder for the existing booster\n",
    "existing_model = None\n",
    "\n",
    "# Placeholder for feature columns\n",
    "feature_columns = None\n",
    "\n",
    "# Optional: Shuffle the dataset before training to ensure representative chunks\n",
    "# Uncomment the following lines if your dataset isn't already shuffled\n",
    "# train_df = train_df.sample(frac=1, random_state=42).reset_index(drop=True)\n",
    "\n",
    "print(\"Starting incremental training...\")\n",
    "for i in tqdm(range(0, len_train, chunk_size), desc=\"Training Progress\", leave=True):\n",
    "    # Load and process a chunk of data\n",
    "    chunk = train_df.slice(i, chunk_size).collect().to_pandas()\n",
    "    X_chunk = chunk.drop(columns=['responder_6'])\n",
    "    y_chunk = chunk['responder_6']\n",
    "    \n",
    "    # Save feature columns from the first chunk\n",
    "    if i == 0:\n",
    "        feature_columns = X_chunk.columns.tolist()\n",
    "        with open(\"feature_columns.pkl\", \"wb\") as f:\n",
    "            pickle.dump(feature_columns, f)\n",
    "    \n",
    "    # Ensure feature alignment\n",
    "    X_chunk = X_chunk[feature_columns]\n",
    "    \n",
    "    # Define a small validation set from the current chunk\n",
    "    # Here, we take 10% of the chunk as a temporary validation set\n",
    "    X_val = X_chunk.sample(frac=0.1, random_state=42)\n",
    "    y_val = y_chunk.loc[X_val.index]\n",
    "    \n",
    "    # Remove validation samples from training data\n",
    "    X_train_chunk = X_chunk.drop(index=X_val.index)\n",
    "    y_train_chunk = y_chunk.drop(index=X_val.index)\n",
    "    \n",
    "    # Fit the model incrementally with early stopping\n",
    "    xgb_model.fit(\n",
    "        X_train_chunk, \n",
    "        y_train_chunk, \n",
    "        xgb_model=existing_model, \n",
    "        eval_set=[(X_val, y_val)],\n",
    "        verbose=False\n",
    "    )\n",
    "    \n",
    "    # Update the existing booster\n",
    "    existing_model = xgb_model.get_booster()\n",
    "    \n",
    "    # Monitor total number of trees\n",
    "    total_trees = xgb_model.get_booster().trees_to_dataframe().shape[0]\n",
    "    print(f\"Total number of trees after this chunk: {total_trees}\")\n",
    "    \n",
    "    # Sample prediction for monitoring\n",
    "    sample_pred = xgb_model.predict(X_train_chunk.sample(5))\n",
    "    print(f\"Sample Predictions after this chunk: {sample_pred}\")\n",
    "    \n",
    "    # Stop training if total trees exceed 10,000 (adjust as needed)\n",
    "    if total_trees >= 100000:\n",
    "        print(\"Reached the maximum number of trees. Stopping training.\")\n",
    "        break\n",
    "\n",
    "print(\"Training complete.\")\n",
    "\n",
    "# Save the entire model using joblib\n",
    "joblib.dump(xgb_model, \"xgb_baseline_model.joblib\")\n",
    "print(\"Model saved using joblib.\")"
   ]
  },
  {
   "cell_type": "code",
   "execution_count": 13,
   "metadata": {},
   "outputs": [
    {
     "name": "stdout",
     "output_type": "stream",
     "text": [
      "Has get_score: False\n",
      "\n",
      "Processing Fold 1...\n",
      "Sample y_test: [-0.06528983 -0.61177075  0.01927231  0.10459156  0.04467911]\n",
      "Sample y_pred: [-0.01738704 -0.2567499   0.02126453  0.08341186  0.07893153]\n",
      "X_test mean: 21.682413396970198\n",
      "X_test std deviation: 5.66138495646666\n",
      "Fold 1 - RMSE: 0.41, MAE: 0.19, R-squared: 0.78\n",
      "\n",
      "Processing Fold 2...\n"
     ]
    },
    {
     "name": "stderr",
     "output_type": "stream",
     "text": [
      "C:\\Users\\afise\\AppData\\Local\\Packages\\PythonSoftwareFoundation.Python.3.11_qbz5n2kfra8p0\\LocalCache\\local-packages\\Python311\\site-packages\\sklearn\\metrics\\_regression.py:492: FutureWarning: 'squared' is deprecated in version 1.4 and will be removed in 1.6. To calculate the root mean squared error, use the function'root_mean_squared_error'.\n",
      "  warnings.warn(\n"
     ]
    },
    {
     "name": "stdout",
     "output_type": "stream",
     "text": [
      "Sample y_test: [ 0.15286504 -0.09382491  0.19368365  0.10055123  0.5272096 ]\n",
      "Sample y_pred: [ 0.08675054 -0.13341476  0.32115856  0.09249685  0.637266  ]\n",
      "X_test mean: 22.199709330636484\n",
      "X_test std deviation: 5.714965395513075\n",
      "Fold 2 - RMSE: 0.53, MAE: 0.21, R-squared: 0.45\n",
      "\n",
      "Processing Fold 3...\n"
     ]
    },
    {
     "name": "stderr",
     "output_type": "stream",
     "text": [
      "C:\\Users\\afise\\AppData\\Local\\Packages\\PythonSoftwareFoundation.Python.3.11_qbz5n2kfra8p0\\LocalCache\\local-packages\\Python311\\site-packages\\sklearn\\metrics\\_regression.py:492: FutureWarning: 'squared' is deprecated in version 1.4 and will be removed in 1.6. To calculate the root mean squared error, use the function'root_mean_squared_error'.\n",
      "  warnings.warn(\n"
     ]
    },
    {
     "name": "stdout",
     "output_type": "stream",
     "text": [
      "Sample y_test: [-0.48750278 -0.250614   -0.1543186  -0.50523615  0.2855216 ]\n",
      "Sample y_pred: [-0.42615622 -0.34194    -0.27978697 -0.30642954  0.33488798]\n",
      "X_test mean: 22.806088096903565\n",
      "X_test std deviation: 5.65270580377582\n",
      "Fold 3 - RMSE: 0.44, MAE: 0.19, R-squared: 0.72\n",
      "\n",
      "Processing Fold 4...\n"
     ]
    },
    {
     "name": "stderr",
     "output_type": "stream",
     "text": [
      "C:\\Users\\afise\\AppData\\Local\\Packages\\PythonSoftwareFoundation.Python.3.11_qbz5n2kfra8p0\\LocalCache\\local-packages\\Python311\\site-packages\\sklearn\\metrics\\_regression.py:492: FutureWarning: 'squared' is deprecated in version 1.4 and will be removed in 1.6. To calculate the root mean squared error, use the function'root_mean_squared_error'.\n",
      "  warnings.warn(\n"
     ]
    },
    {
     "name": "stdout",
     "output_type": "stream",
     "text": [
      "Sample y_test: [-0.10810545  0.5540864   1.8912317   0.14390613  0.775472  ]\n",
      "Sample y_pred: [-0.08534803  0.58485657  1.491108    0.02938647  0.45599654]\n",
      "X_test mean: 23.304163244343997\n",
      "X_test std deviation: 5.606112938028312\n",
      "Fold 4 - RMSE: 0.31, MAE: 0.16, R-squared: 0.88\n",
      "\n",
      "Processing Fold 5...\n"
     ]
    },
    {
     "name": "stderr",
     "output_type": "stream",
     "text": [
      "C:\\Users\\afise\\AppData\\Local\\Packages\\PythonSoftwareFoundation.Python.3.11_qbz5n2kfra8p0\\LocalCache\\local-packages\\Python311\\site-packages\\sklearn\\metrics\\_regression.py:492: FutureWarning: 'squared' is deprecated in version 1.4 and will be removed in 1.6. To calculate the root mean squared error, use the function'root_mean_squared_error'.\n",
      "  warnings.warn(\n"
     ]
    },
    {
     "name": "stdout",
     "output_type": "stream",
     "text": [
      "Sample y_test: [-0.14782311 -0.218748   -0.23136136 -0.39407742  0.1264341 ]\n",
      "Sample y_pred: [-0.17599386 -0.1529113  -0.2830996  -0.36153692  0.12477134]\n",
      "X_test mean: 23.907138029459773\n",
      "X_test std deviation: 5.659383413591573\n",
      "Fold 5 - RMSE: 0.58, MAE: 0.24, R-squared: 0.40\n",
      "\n",
      "Cross-Validation Results:\n",
      "Average RMSE: 0.45\n",
      "Average MAE: 0.20\n",
      "Average R-squared: 0.64\n"
     ]
    },
    {
     "name": "stderr",
     "output_type": "stream",
     "text": [
      "C:\\Users\\afise\\AppData\\Local\\Packages\\PythonSoftwareFoundation.Python.3.11_qbz5n2kfra8p0\\LocalCache\\local-packages\\Python311\\site-packages\\sklearn\\metrics\\_regression.py:492: FutureWarning: 'squared' is deprecated in version 1.4 and will be removed in 1.6. To calculate the root mean squared error, use the function'root_mean_squared_error'.\n",
      "  warnings.warn(\n"
     ]
    }
   ],
   "source": [
    "# Load feature columns\n",
    "with open(\"feature_columns.pkl\", \"rb\") as f:\n",
    "    feature_columns = pickle.load(f)\n",
    "\n",
    "# Load the trained model using joblib\n",
    "xgb_model = joblib.load(\"xgb_baseline_model.joblib\")\n",
    "\n",
    "# Verify that get_score exists\n",
    "print(\"Has get_score:\", hasattr(xgb_model, 'get_score'))  # Should print True\n",
    "\n",
    "# Prepare data\n",
    "val_df_collected = val_df.collect()\n",
    "X_full = val_df_collected.drop('responder_6').to_pandas()\n",
    "y_full = val_df_collected['responder_6'].to_pandas()\n",
    "\n",
    "# Align features\n",
    "X_full = X_full[feature_columns]\n",
    "\n",
    "# Handle NaNs and infinite values\n",
    "X_full = X_full.fillna(0).replace([np.inf, -np.inf], 0)\n",
    "\n",
    "# Initialize TimeSeriesSplit\n",
    "n_splits = 5\n",
    "tscv = TimeSeriesSplit(n_splits=n_splits)\n",
    "\n",
    "# Prepare metrics storage\n",
    "metrics = {'rmse': [], 'mae': [], 'r2': []}\n",
    "\n",
    "fold = 1\n",
    "for train_index, test_index in tscv.split(X_full):\n",
    "    print(f\"\\nProcessing Fold {fold}...\")\n",
    "    \n",
    "    # Split data\n",
    "    X_train, X_test = X_full.iloc[train_index], X_full.iloc[test_index]\n",
    "    y_train, y_test = y_full.iloc[train_index], y_full.iloc[test_index]\n",
    "\n",
    "    # Check for NaNs or infinite values in X_test\n",
    "    if X_test.isnull().values.any():\n",
    "        print(\"Validation data contains NaN values. Handling them now.\")\n",
    "        X_test = X_test.fillna(0)  # or use another appropriate strategy\n",
    "\n",
    "    if not np.isfinite(X_test).all().all():\n",
    "        print(\"Validation data contains infinite values. Handling them now.\")\n",
    "        X_test = X_test.replace([np.inf, -np.inf], 0)\n",
    "\n",
    "    # Predict using the pre-trained model\n",
    "    y_pred = xgb_model.predict(X_test)\n",
    "\n",
    "    # Debug: print sample values\n",
    "    print(\"Sample y_test:\", y_test.head(5).values)\n",
    "    print(\"Sample y_pred:\", y_pred[:5])\n",
    "    print(\"X_test mean:\", X_test.mean().mean())\n",
    "    print(\"X_test std deviation:\", X_test.std().mean())\n",
    "\n",
    "    # Calculate metrics\n",
    "    rmse = mean_squared_error(y_test, y_pred, squared=False)\n",
    "    mae = mean_absolute_error(y_test, y_pred)\n",
    "    r2 = r2_score(y_test, y_pred)\n",
    "\n",
    "    # Append metrics to storage\n",
    "    metrics['rmse'].append(rmse)\n",
    "    metrics['mae'].append(mae)\n",
    "    metrics['r2'].append(r2)\n",
    "\n",
    "    # Print fold results for debugging\n",
    "    print(f\"Fold {fold} - RMSE: {rmse:.2f}, MAE: {mae:.2f}, R-squared: {r2:.2f}\")\n",
    "\n",
    "    fold += 1\n",
    "\n",
    "# Aggregate results only if at least one fold was processed\n",
    "if metrics['rmse']:\n",
    "    print(\"\\nCross-Validation Results:\")\n",
    "    print(f\"Average RMSE: {np.mean(metrics['rmse']):.2f}\")\n",
    "    print(f\"Average MAE: {np.mean(metrics['mae']):.2f}\")\n",
    "    print(f\"Average R-squared: {np.mean(metrics['r2']):.2f}\")\n",
    "else:\n",
    "    print(\"No folds were processed. Please check the split logic.\")"
   ]
  },
  {
   "cell_type": "code",
   "execution_count": 24,
   "metadata": {},
   "outputs": [],
   "source": [
    "# Retrieve the underlying Booster object\n",
    "booster = xgb_model.get_booster()\n",
    "\n",
    "# Get feature importance scores using the 'gain' metric\n",
    "feature_importance = booster.get_score(importance_type='gain')"
   ]
  },
  {
   "cell_type": "code",
   "execution_count": 26,
   "metadata": {},
   "outputs": [
    {
     "data": {
      "image/png": "[encoded data removed]",
      "text/plain": [
       "<Figure size 640x480 with 1 Axes>"
      ]
     },
     "metadata": {},
     "output_type": "display_data"
    }
   ],
   "source": [
    "xgb.plot_importance(booster, importance_type='gain', show_values=False, max_num_features=20)\n",
    "plt.title('Top 10 Feature Importances by Gain')\n",
    "plt.ylabel('Features')\n",
    "plt.xlabel('Gain')\n",
    "plt.show()"
   ]
  }
 ],
 "metadata": {
  "kernelspec": {
   "display_name": "Python 3",
   "language": "python",
   "name": "python3"
  },
  "language_info": {
   "codemirror_mode": {
    "name": "ipython",
    "version": 3
   },
   "file_extension": ".py",
   "mimetype": "text/x-python",
   "name": "python",
   "nbconvert_exporter": "python",
   "pygments_lexer": "ipython3",
   "version": "3.11.9"
  }
 },
 "nbformat": 4,
 "nbformat_minor": 2
}
